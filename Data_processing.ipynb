{
 "cells": [
  {
   "cell_type": "code",
   "execution_count": 59,
   "id": "6a9e1049-0f4b-40e2-a9a9-5080947fe98a",
   "metadata": {},
   "outputs": [],
   "source": [
    "import pandas as pd\n",
    "import numpy as np\n",
    "import yfinance as yf"
   ]
  },
  {
   "cell_type": "code",
   "execution_count": 103,
   "id": "92d01e8e-5f6a-48ae-bbd4-26ef1ca079d6",
   "metadata": {},
   "outputs": [],
   "source": [
    "df = pd.read_csv(\"Discuss_comment_20220702.csv\")\n",
    "df = pd.read_csv(\"Discuss_comment.csv\")"
   ]
  },
  {
   "cell_type": "code",
   "execution_count": 104,
   "id": "28b7c849-e92f-4569-b739-e89b399ef89e",
   "metadata": {},
   "outputs": [],
   "source": [
    "df.dropna(inplace=True)"
   ]
  },
  {
   "cell_type": "code",
   "execution_count": 61,
   "id": "306fa4d1-fc05-4a06-a261-6c57a0f1c9f1",
   "metadata": {},
   "outputs": [],
   "source": [
    "df_merge = pd.concat([df, df1])"
   ]
  },
  {
   "cell_type": "code",
   "execution_count": 62,
   "id": "58f8bd77-fd23-44f2-b69d-ee070eafa605",
   "metadata": {},
   "outputs": [],
   "source": [
    "df_merge = df_merge.drop(columns = \"Unnamed: 0\")"
   ]
  },
  {
   "cell_type": "code",
   "execution_count": 63,
   "id": "35823db6-6f98-4866-aad2-cdff21938d5b",
   "metadata": {},
   "outputs": [],
   "source": [
    "df_merge.dropna(inplace=True)"
   ]
  },
  {
   "cell_type": "code",
   "execution_count": 64,
   "id": "b3adf893-0709-4866-baca-f5425d323f02",
   "metadata": {},
   "outputs": [
    {
     "data": {
      "text/html": [
       "<div>\n",
       "<style scoped>\n",
       "    .dataframe tbody tr th:only-of-type {\n",
       "        vertical-align: middle;\n",
       "    }\n",
       "\n",
       "    .dataframe tbody tr th {\n",
       "        vertical-align: top;\n",
       "    }\n",
       "\n",
       "    .dataframe thead th {\n",
       "        text-align: right;\n",
       "    }\n",
       "</style>\n",
       "<table border=\"1\" class=\"dataframe\">\n",
       "  <thead>\n",
       "    <tr style=\"text-align: right;\">\n",
       "      <th></th>\n",
       "      <th>Date</th>\n",
       "      <th>Topic</th>\n",
       "      <th>Comments</th>\n",
       "    </tr>\n",
       "  </thead>\n",
       "  <tbody>\n",
       "    <tr>\n",
       "      <th>0</th>\n",
       "      <td>2022-06-09</td>\n",
       "      <td>老人院 - 22年後的終極告白</td>\n",
       "      <td>2000年12月1日那夜我們被迫走上絕路 《香港討論區》</td>\n",
       "    </tr>\n",
       "    <tr>\n",
       "      <th>1</th>\n",
       "      <td>2022-06-09</td>\n",
       "      <td>老人院 - 22年後的終極告白</td>\n",
       "      <td>收市 我輸爆光</td>\n",
       "    </tr>\n",
       "    <tr>\n",
       "      <th>2</th>\n",
       "      <td>2022-06-09</td>\n",
       "      <td>老人院 - 22年後的終極告白</td>\n",
       "      <td>輸爆光了</td>\n",
       "    </tr>\n",
       "    <tr>\n",
       "      <th>3</th>\n",
       "      <td>2022-06-09</td>\n",
       "      <td>老人院 - 22年後的終極告白</td>\n",
       "      <td>allined</td>\n",
       "    </tr>\n",
       "    <tr>\n",
       "      <th>4</th>\n",
       "      <td>2022-06-09</td>\n",
       "      <td>老人院 - 22年後的終極告白</td>\n",
       "      <td>乜事升咁多</td>\n",
       "    </tr>\n",
       "    <tr>\n",
       "      <th>...</th>\n",
       "      <td>...</td>\n",
       "      <td>...</td>\n",
       "      <td>...</td>\n",
       "    </tr>\n",
       "    <tr>\n",
       "      <th>1554</th>\n",
       "      <td>2022-07-09</td>\n",
       "      <td>中港美股指南針</td>\n",
       "      <td>如實紀錄實時交易情況，喜歡的，請俾個like 《香港討論區》</td>\n",
       "    </tr>\n",
       "    <tr>\n",
       "      <th>1555</th>\n",
       "      <td>2022-07-09</td>\n",
       "      <td>中港美股指南針</td>\n",
       "      <td>高沽A50，低揸美指</td>\n",
       "    </tr>\n",
       "    <tr>\n",
       "      <th>1556</th>\n",
       "      <td>2022-07-09</td>\n",
       "      <td>中港美股指南針</td>\n",
       "      <td>中國房住不炒，房屋不能再升值，資金被困住，想買股票也冇錢。\\n所以A股必需沽空!</td>\n",
       "    </tr>\n",
       "    <tr>\n",
       "      <th>1557</th>\n",
       "      <td>2022-07-09</td>\n",
       "      <td>美股指南針</td>\n",
       "      <td>3000點遲早到，不過是2024年的事\\n\\n[ 本帖最後由 ying12345 於 202...</td>\n",
       "    </tr>\n",
       "    <tr>\n",
       "      <th>1558</th>\n",
       "      <td>2022-07-09</td>\n",
       "      <td>美國衰退？簡單講下殖利率曲線倒掛</td>\n",
       "      <td>《香港討論區》</td>\n",
       "    </tr>\n",
       "  </tbody>\n",
       "</table>\n",
       "<p>79010 rows × 3 columns</p>\n",
       "</div>"
      ],
      "text/plain": [
       "            Date             Topic  \\\n",
       "0     2022-06-09   老人院 - 22年後的終極告白   \n",
       "1     2022-06-09   老人院 - 22年後的終極告白   \n",
       "2     2022-06-09   老人院 - 22年後的終極告白   \n",
       "3     2022-06-09   老人院 - 22年後的終極告白   \n",
       "4     2022-06-09   老人院 - 22年後的終極告白   \n",
       "...          ...               ...   \n",
       "1554  2022-07-09           中港美股指南針   \n",
       "1555  2022-07-09           中港美股指南針   \n",
       "1556  2022-07-09           中港美股指南針   \n",
       "1557  2022-07-09             美股指南針   \n",
       "1558  2022-07-09  美國衰退？簡單講下殖利率曲線倒掛   \n",
       "\n",
       "                                               Comments  \n",
       "0                          2000年12月1日那夜我們被迫走上絕路 《香港討論區》  \n",
       "1                                               收市 我輸爆光  \n",
       "2                                                  輸爆光了  \n",
       "3                                               allined  \n",
       "4                                                 乜事升咁多  \n",
       "...                                                 ...  \n",
       "1554                     如實紀錄實時交易情況，喜歡的，請俾個like 《香港討論區》  \n",
       "1555                                         高沽A50，低揸美指  \n",
       "1556           中國房住不炒，房屋不能再升值，資金被困住，想買股票也冇錢。\\n所以A股必需沽空!  \n",
       "1557  3000點遲早到，不過是2024年的事\\n\\n[ 本帖最後由 ying12345 於 202...  \n",
       "1558                                            《香港討論區》  \n",
       "\n",
       "[79010 rows x 3 columns]"
      ]
     },
     "execution_count": 64,
     "metadata": {},
     "output_type": "execute_result"
    }
   ],
   "source": [
    "df_merge"
   ]
  },
  {
   "cell_type": "code",
   "execution_count": 65,
   "id": "4b19002a-3cfd-4201-97a7-e643b015499b",
   "metadata": {},
   "outputs": [],
   "source": [
    "df_merge.to_csv(\"Discuss_comment_20220709.csv\")"
   ]
  },
  {
   "cell_type": "code",
   "execution_count": 66,
   "id": "d5442355-d101-4497-b290-35e3dbe9184a",
   "metadata": {},
   "outputs": [],
   "source": [
    "df = pd.read_csv(\"Discuss_comment_20220709.csv\")"
   ]
  },
  {
   "cell_type": "code",
   "execution_count": 105,
   "id": "dc072d5d-cfb0-43a3-abe7-605ca6d9755d",
   "metadata": {},
   "outputs": [
    {
     "data": {
      "text/html": [
       "<div>\n",
       "<style scoped>\n",
       "    .dataframe tbody tr th:only-of-type {\n",
       "        vertical-align: middle;\n",
       "    }\n",
       "\n",
       "    .dataframe tbody tr th {\n",
       "        vertical-align: top;\n",
       "    }\n",
       "\n",
       "    .dataframe thead th {\n",
       "        text-align: right;\n",
       "    }\n",
       "</style>\n",
       "<table border=\"1\" class=\"dataframe\">\n",
       "  <thead>\n",
       "    <tr style=\"text-align: right;\">\n",
       "      <th></th>\n",
       "      <th>Unnamed: 0</th>\n",
       "      <th>Date</th>\n",
       "      <th>Topic</th>\n",
       "      <th>Comments</th>\n",
       "    </tr>\n",
       "  </thead>\n",
       "  <tbody>\n",
       "    <tr>\n",
       "      <th>0</th>\n",
       "      <td>11415</td>\n",
       "      <td>2022-07-10</td>\n",
       "      <td>美國經濟降溫！摩根資管︰聯儲局或後悔加息過急</td>\n",
       "      <td>通脹…一直居高不下，反而先係最危險！\\n\\r\\n財長…及聯儲局長，都話會放棄市民，大手加息壓...</td>\n",
       "    </tr>\n",
       "    <tr>\n",
       "      <th>1</th>\n",
       "      <td>9579</td>\n",
       "      <td>2022-07-10</td>\n",
       "      <td>加拿大經濟大簫條</td>\n",
       "      <td>Screenshot_20220710_192818.jpg (728.82 KB)2...</td>\n",
       "    </tr>\n",
       "    <tr>\n",
       "      <th>2</th>\n",
       "      <td>9580</td>\n",
       "      <td>2022-07-10</td>\n",
       "      <td>加拿大經濟大簫條</td>\n",
       "      <td>因為最近好多老尾和老墨過嚟大温隊cocaine，所以生意好旺，連帶啲陀地港女都好搶手，道友多...</td>\n",
       "    </tr>\n",
       "    <tr>\n",
       "      <th>3</th>\n",
       "      <td>9581</td>\n",
       "      <td>2022-07-10</td>\n",
       "      <td>加拿大經濟大簫條</td>\n",
       "      <td>係大温呢喲真係超筍工，好多香港專業人仕，例如社工，財演都爭住做</td>\n",
       "    </tr>\n",
       "    <tr>\n",
       "      <th>4</th>\n",
       "      <td>9582</td>\n",
       "      <td>2022-07-10</td>\n",
       "      <td>加拿大經濟大簫條</td>\n",
       "      <td>中畀向威權統治\\r\\n那有民主</td>\n",
       "    </tr>\n",
       "    <tr>\n",
       "      <th>...</th>\n",
       "      <td>...</td>\n",
       "      <td>...</td>\n",
       "      <td>...</td>\n",
       "      <td>...</td>\n",
       "    </tr>\n",
       "    <tr>\n",
       "      <th>2017</th>\n",
       "      <td>36</td>\n",
       "      <td>2022-07-16</td>\n",
       "      <td>道指反彈658點   恆指會跟嗎？</td>\n",
       "      <td>https://news.tvb.com/tc/instant/ ... utm_mediu...</td>\n",
       "    </tr>\n",
       "    <tr>\n",
       "      <th>2018</th>\n",
       "      <td>35</td>\n",
       "      <td>2022-07-16</td>\n",
       "      <td>美期反彈；恒指IG試20400，金管局買入53.22億港元，阿里美股低港6.3%</td>\n",
       "      <td>因為仲未踢走軟銀</td>\n",
       "    </tr>\n",
       "    <tr>\n",
       "      <th>2019</th>\n",
       "      <td>34</td>\n",
       "      <td>2022-07-16</td>\n",
       "      <td>美期反彈；恒指IG試20400，金管局買入53.22億港元，阿里美股低港6.3%</td>\n",
       "      <td>又要等阿爺出實招，再吾減息，放水，就搞吾掂</td>\n",
       "    </tr>\n",
       "    <tr>\n",
       "      <th>2020</th>\n",
       "      <td>32</td>\n",
       "      <td>2022-07-16</td>\n",
       "      <td>美期反彈；恒指IG試20400，金管局買入53.22億港元，阿里美股低港6.3%</td>\n",
       "      <td>6月很多利好消息，抄高左，7月大陸就爆鑊</td>\n",
       "    </tr>\n",
       "    <tr>\n",
       "      <th>2021</th>\n",
       "      <td>1488</td>\n",
       "      <td>2022-07-16</td>\n",
       "      <td>通脹大爆發，巴菲特卻在加倉股票？！</td>\n",
       "      <td>傳市場話巴郡大舉持有西方石油</td>\n",
       "    </tr>\n",
       "  </tbody>\n",
       "</table>\n",
       "<p>1911 rows × 4 columns</p>\n",
       "</div>"
      ],
      "text/plain": [
       "      Unnamed: 0        Date                                     Topic  \\\n",
       "0          11415  2022-07-10                    美國經濟降溫！摩根資管︰聯儲局或後悔加息過急   \n",
       "1           9579  2022-07-10                                  加拿大經濟大簫條   \n",
       "2           9580  2022-07-10                                  加拿大經濟大簫條   \n",
       "3           9581  2022-07-10                                  加拿大經濟大簫條   \n",
       "4           9582  2022-07-10                                  加拿大經濟大簫條   \n",
       "...          ...         ...                                       ...   \n",
       "2017          36  2022-07-16                         道指反彈658點   恆指會跟嗎？   \n",
       "2018          35  2022-07-16  美期反彈；恒指IG試20400，金管局買入53.22億港元，阿里美股低港6.3%   \n",
       "2019          34  2022-07-16  美期反彈；恒指IG試20400，金管局買入53.22億港元，阿里美股低港6.3%   \n",
       "2020          32  2022-07-16  美期反彈；恒指IG試20400，金管局買入53.22億港元，阿里美股低港6.3%   \n",
       "2021        1488  2022-07-16                         通脹大爆發，巴菲特卻在加倉股票？！   \n",
       "\n",
       "                                               Comments  \n",
       "0     通脹…一直居高不下，反而先係最危險！\\n\\r\\n財長…及聯儲局長，都話會放棄市民，大手加息壓...  \n",
       "1        Screenshot_20220710_192818.jpg (728.82 KB)2...  \n",
       "2     因為最近好多老尾和老墨過嚟大温隊cocaine，所以生意好旺，連帶啲陀地港女都好搶手，道友多...  \n",
       "3                       係大温呢喲真係超筍工，好多香港專業人仕，例如社工，財演都爭住做  \n",
       "4                                       中畀向威權統治\\r\\n那有民主  \n",
       "...                                                 ...  \n",
       "2017  https://news.tvb.com/tc/instant/ ... utm_mediu...  \n",
       "2018                                           因為仲未踢走軟銀  \n",
       "2019                              又要等阿爺出實招，再吾減息，放水，就搞吾掂  \n",
       "2020                               6月很多利好消息，抄高左，7月大陸就爆鑊  \n",
       "2021                                     傳市場話巴郡大舉持有西方石油  \n",
       "\n",
       "[1911 rows x 4 columns]"
      ]
     },
     "execution_count": 105,
     "metadata": {},
     "output_type": "execute_result"
    }
   ],
   "source": [
    "df"
   ]
  },
  {
   "cell_type": "code",
   "execution_count": 106,
   "id": "f93ada8d-64b1-4e27-b1b7-d235d4a22b07",
   "metadata": {},
   "outputs": [],
   "source": [
    "df[\"Date\"] = pd.to_datetime(df[\"Date\"])\n",
    "# df[\"Topic\"] = str(df[\"Topic\"])\n",
    "# df[\"Comments\"] = str(df[\"Comments\"])"
   ]
  },
  {
   "cell_type": "code",
   "execution_count": 107,
   "id": "6d20b587-fe10-486e-9dc3-c552026418ed",
   "metadata": {},
   "outputs": [],
   "source": [
    "positive = [\"贏\",\"升\",\"fat\",\"win\",\"賺\",\"tqqq\",\"點會輸\",\"點可能輸\",\"邊有可能輸\",\"牛市\",\"開心\",\"牛\",\"lc\",\"sp\",\"做多\",\"飛天\",\"call\", \"數錢\",\"up\", \"go\", \"moon\", \"富\", \"發達\", \"財自\", \"財務自由\"]"
   ]
  },
  {
   "cell_type": "code",
   "execution_count": 108,
   "id": "002d6e46-7f13-4422-a67b-b9246791b97b",
   "metadata": {},
   "outputs": [],
   "source": [
    "negative = [\"跌\",\"大插\",\"垃圾\",\"sqqq\",\"熊\",\"摸頂\",\"遠未見底\",\"跳樓\",\"自殺\",\"插\",\"二手飯\",\"sc\",\"lp\",\"崩\", \"沽\",\"溶斷\",\"做淡\", \"空\",\"down\", \"drop\",\"輸\", \"窮\", \"破產\", \"股災\"]"
   ]
  },
  {
   "cell_type": "code",
   "execution_count": 109,
   "id": "643d229f-72cd-44b9-b9e6-04ea7dd5dcd0",
   "metadata": {},
   "outputs": [],
   "source": [
    "positive_score = 0\n",
    "negative_score = 0\n",
    "\n",
    "for index, row in df.iterrows():\n",
    "    positive_score = 0\n",
    "    negative_score = 0\n",
    "    for word in positive:\n",
    "        if word in df[\"Comments\"][index]:\n",
    "            positive_score += 1\n",
    "        elif word in df[\"Topic\"][index]:\n",
    "            positive_score += 0.2\n",
    "        df.loc[index, (\"Positive_score\")] = positive_score\n",
    "    for word in negative:\n",
    "        if word in df[\"Comments\"][index]:\n",
    "            negative_score += 1\n",
    "        elif word in df[\"Topic\"][index]:\n",
    "            negative_score += 0.2\n",
    "        df.loc[index, (\"Negative_score\")] = negative_score"
   ]
  },
  {
   "cell_type": "code",
   "execution_count": 110,
   "id": "d3e5ffaa-944e-4cb1-b3db-9a87001e87a4",
   "metadata": {},
   "outputs": [],
   "source": [
    "df = df.set_index(\"Date\")"
   ]
  },
  {
   "cell_type": "code",
   "execution_count": 111,
   "id": "b55d2e47-9b4b-4951-a0bc-646526214921",
   "metadata": {},
   "outputs": [],
   "source": [
    "df_active = df.resample(\"1d\")[\"Comments\"].count()"
   ]
  },
  {
   "cell_type": "code",
   "execution_count": 112,
   "id": "d5e18b8a-75a5-439f-9d01-83a420293fdb",
   "metadata": {},
   "outputs": [],
   "source": [
    "df_positive = df.resample(\"1d\")['Positive_score'].sum()"
   ]
  },
  {
   "cell_type": "code",
   "execution_count": 113,
   "id": "6d50b78f-93f9-45cb-890b-f1592fdcf1c3",
   "metadata": {},
   "outputs": [],
   "source": [
    "df_negative = df.resample(\"1d\")['Negative_score'].sum()"
   ]
  },
  {
   "cell_type": "code",
   "execution_count": 114,
   "id": "788717df-0193-4ba0-9422-537328cc8219",
   "metadata": {},
   "outputs": [
    {
     "data": {
      "text/plain": [
       "<AxesSubplot:xlabel='Date'>"
      ]
     },
     "execution_count": 114,
     "metadata": {},
     "output_type": "execute_result"
    },
    {
     "data": {
      "image/png": "[encoded data removed]",
      "text/plain": [
       "<Figure size 432x288 with 1 Axes>"
      ]
     },
     "metadata": {
      "needs_background": "light"
     },
     "output_type": "display_data"
    }
   ],
   "source": [
    "df_active.plot()"
   ]
  },
  {
   "cell_type": "code",
   "execution_count": 115,
   "id": "650946a5-e2c2-4f97-80f3-387c31882320",
   "metadata": {},
   "outputs": [
    {
     "data": {
      "text/plain": [
       "<AxesSubplot:xlabel='Date'>"
      ]
     },
     "execution_count": 115,
     "metadata": {},
     "output_type": "execute_result"
    },
    {
     "data": {
      "image/png": "[encoded data removed]",
      "text/plain": [
       "<Figure size 432x288 with 1 Axes>"
      ]
     },
     "metadata": {
      "needs_background": "light"
     },
     "output_type": "display_data"
    }
   ],
   "source": [
    "df_positive.plot()"
   ]
  },
  {
   "cell_type": "code",
   "execution_count": 116,
   "id": "307c3835-7d5e-44f9-8ed6-17ea15fe9715",
   "metadata": {},
   "outputs": [
    {
     "data": {
      "text/plain": [
       "<AxesSubplot:xlabel='Date'>"
      ]
     },
     "execution_count": 116,
     "metadata": {},
     "output_type": "execute_result"
    },
    {
     "data": {
      "image/png": "[encoded data removed]",
      "text/plain": [
       "<Figure size 432x288 with 1 Axes>"
      ]
     },
     "metadata": {
      "needs_background": "light"
     },
     "output_type": "display_data"
    }
   ],
   "source": [
    "df_negative.plot()"
   ]
  },
  {
   "cell_type": "code",
   "execution_count": 101,
   "id": "180c32d8-c75d-46da-9e76-857410f20da8",
   "metadata": {},
   "outputs": [],
   "source": [
    "df_active.to_csv(\"result_active.csv\")"
   ]
  },
  {
   "cell_type": "code",
   "execution_count": 79,
   "id": "7e4c598b-ccc0-4324-8d44-c2c931e10e89",
   "metadata": {},
   "outputs": [],
   "source": [
    "df_positive.to_csv(\"result_positive.csv\")"
   ]
  },
  {
   "cell_type": "code",
   "execution_count": 80,
   "id": "bfad0e2f-03d5-4cb1-9518-1719cdcd17cf",
   "metadata": {},
   "outputs": [],
   "source": [
    "df_negative.to_csv(\"result_negative.csv\")"
   ]
  },
  {
   "cell_type": "code",
   "execution_count": 94,
   "id": "108afc23-4c6e-43b4-9662-a6765a2daaf6",
   "metadata": {},
   "outputs": [],
   "source": [
    "df = df.drop(columns = [\"Unnamed: 0\", \"Topic\", \"Comments\"], axis=1)"
   ]
  },
  {
   "cell_type": "code",
   "execution_count": 81,
   "id": "f1cd9c28-e694-4174-80c3-7a4cfc55fc6d",
   "metadata": {},
   "outputs": [
    {
     "name": "stdout",
     "output_type": "stream",
     "text": [
      "[*********************100%***********************]  1 of 1 completed\n"
     ]
    }
   ],
   "source": [
    "NQ_index = yf.download('qqq',start='2021-09-01',end='2022-06-18',interval='1d')"
   ]
  },
  {
   "cell_type": "code",
   "execution_count": 82,
   "id": "b1ff9ff8-a401-4ac9-b9f6-8ef39790b24f",
   "metadata": {},
   "outputs": [
    {
     "data": {
      "text/plain": [
       "DatetimeIndex(['2021-08-31', '2021-09-01', '2021-09-02', '2021-09-03',\n",
       "               '2021-09-07', '2021-09-08', '2021-09-09', '2021-09-10',\n",
       "               '2021-09-13', '2021-09-14',\n",
       "               ...\n",
       "               '2022-06-06', '2022-06-07', '2022-06-08', '2022-06-09',\n",
       "               '2022-06-10', '2022-06-13', '2022-06-14', '2022-06-15',\n",
       "               '2022-06-16', '2022-06-17'],\n",
       "              dtype='datetime64[ns]', name='Date', length=202, freq=None)"
      ]
     },
     "execution_count": 82,
     "metadata": {},
     "output_type": "execute_result"
    }
   ],
   "source": [
    "NQ_index.index"
   ]
  },
  {
   "cell_type": "code",
   "execution_count": 96,
   "id": "08f3765e-c76b-4be9-b3b0-bf3fbbc8dd2d",
   "metadata": {},
   "outputs": [],
   "source": [
    "df_merge = df.join(NQ_index, on=\"Date\", how=\"left\")"
   ]
  },
  {
   "cell_type": "code",
   "execution_count": 97,
   "id": "ab8a694b-d7d1-4a6e-94ec-b5ce7eefd1e4",
   "metadata": {},
   "outputs": [],
   "source": [
    "df_merge.to_csv(\"result_merge.csv\")"
   ]
  }
 ],
 "metadata": {
  "kernelspec": {
   "display_name": "Python 3 (ipykernel)",
   "language": "python",
   "name": "python3"
  },
  "language_info": {
   "codemirror_mode": {
    "name": "ipython",
    "version": 3
   },
   "file_extension": ".py",
   "mimetype": "text/x-python",
   "name": "python",
   "nbconvert_exporter": "python",
   "pygments_lexer": "ipython3",
   "version": "3.8.9"
  }
 },
 "nbformat": 4,
 "nbformat_minor": 5
}
